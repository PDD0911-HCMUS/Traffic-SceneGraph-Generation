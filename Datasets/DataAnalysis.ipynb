{
 "cells": [
  {
   "cell_type": "code",
   "execution_count": 1,
   "metadata": {},
   "outputs": [],
   "source": [
    "import json"
   ]
  },
  {
   "cell_type": "markdown",
   "metadata": {},
   "source": [
    "## Config Directories"
   ]
  },
  {
   "cell_type": "code",
   "execution_count": 7,
   "metadata": {},
   "outputs": [],
   "source": [
    "#BDD Annotation\n",
    "bddRoot = 'BDD/bdd100k_labels_release/bdd100k/labels/'\n",
    "\n",
    "labelsBDDTrain = bddRoot+'bdd100k_labels_images_train.json'\n"
   ]
  },
  {
   "cell_type": "code",
   "execution_count": 5,
   "metadata": {},
   "outputs": [
    {
     "data": {
      "text/plain": [
       "69863"
      ]
     },
     "execution_count": 5,
     "metadata": {},
     "output_type": "execute_result"
    }
   ],
   "source": [
    "f = open(labelsBDDTrain)\n",
    "data = json.load(f)\n",
    "len(data)"
   ]
  },
  {
   "cell_type": "code",
   "execution_count": 6,
   "metadata": {},
   "outputs": [
    {
     "data": {
      "text/plain": [
       "{'name': '0000f77c-6257be58.jpg',\n",
       " 'attributes': {'weather': 'clear',\n",
       "  'scene': 'city street',\n",
       "  'timeofday': 'daytime'},\n",
       " 'timestamp': 10000,\n",
       " 'labels': [{'category': 'traffic light',\n",
       "   'attributes': {'occluded': False,\n",
       "    'truncated': False,\n",
       "    'trafficLightColor': 'green'},\n",
       "   'manualShape': True,\n",
       "   'manualAttributes': True,\n",
       "   'box2d': {'x1': 1125.902264,\n",
       "    'y1': 133.184488,\n",
       "    'x2': 1156.978645,\n",
       "    'y2': 210.875445},\n",
       "   'id': 0},\n",
       "  {'category': 'traffic light',\n",
       "   'attributes': {'occluded': False,\n",
       "    'truncated': False,\n",
       "    'trafficLightColor': 'green'},\n",
       "   'manualShape': True,\n",
       "   'manualAttributes': True,\n",
       "   'box2d': {'x1': 1156.978645,\n",
       "    'y1': 136.637417,\n",
       "    'x2': 1191.50796,\n",
       "    'y2': 210.875443},\n",
       "   'id': 1},\n",
       "  {'category': 'traffic sign',\n",
       "   'attributes': {'occluded': False,\n",
       "    'truncated': False,\n",
       "    'trafficLightColor': 'none'},\n",
       "   'manualShape': True,\n",
       "   'manualAttributes': True,\n",
       "   'box2d': {'x1': 1101.731743,\n",
       "    'y1': 211.122087,\n",
       "    'x2': 1170.79037,\n",
       "    'y2': 233.566141},\n",
       "   'id': 2},\n",
       "  {'category': 'traffic sign',\n",
       "   'attributes': {'occluded': False,\n",
       "    'truncated': True,\n",
       "    'trafficLightColor': 'none'},\n",
       "   'manualShape': True,\n",
       "   'manualAttributes': True,\n",
       "   'box2d': {'x1': 0, 'y1': 0.246631, 'x2': 100.381647, 'y2': 122.825696},\n",
       "   'id': 3},\n",
       "  {'category': 'car',\n",
       "   'attributes': {'occluded': False,\n",
       "    'truncated': False,\n",
       "    'trafficLightColor': 'none'},\n",
       "   'manualShape': True,\n",
       "   'manualAttributes': True,\n",
       "   'box2d': {'x1': 45.240919,\n",
       "    'y1': 254.530367,\n",
       "    'x2': 357.805838,\n",
       "    'y2': 487.906215},\n",
       "   'id': 4},\n",
       "  {'category': 'car',\n",
       "   'attributes': {'occluded': False,\n",
       "    'truncated': False,\n",
       "    'trafficLightColor': 'none'},\n",
       "   'manualShape': True,\n",
       "   'manualAttributes': True,\n",
       "   'box2d': {'x1': 507.82755,\n",
       "    'y1': 221.727518,\n",
       "    'x2': 908.367588,\n",
       "    'y2': 442.715126},\n",
       "   'id': 5},\n",
       "  {'category': 'traffic sign',\n",
       "   'attributes': {'occluded': False,\n",
       "    'truncated': True,\n",
       "    'trafficLightColor': 'none'},\n",
       "   'manualShape': True,\n",
       "   'manualAttributes': True,\n",
       "   'box2d': {'x1': 0.156955,\n",
       "    'y1': 0.809282,\n",
       "    'x2': 102.417429,\n",
       "    'y2': 133.411856},\n",
       "   'id': 6},\n",
       "  {'category': 'drivable area',\n",
       "   'attributes': {'areaType': 'direct'},\n",
       "   'manualShape': True,\n",
       "   'manualAttributes': True,\n",
       "   'poly2d': [{'vertices': [[1280.195648, 626.372529],\n",
       "      [1280.195648, 371.830705],\n",
       "      [927.081254, 366.839689],\n",
       "      [872.180076, 427.979637],\n",
       "      [658.814135, 450.439209],\n",
       "      [585.196646, 426.731883],\n",
       "      [0, 517.817928],\n",
       "      [0, 602.665203],\n",
       "      [497.853863, 540.2775],\n",
       "      [927.081254, 571.471352],\n",
       "      [1280.195648, 626.372529]],\n",
       "     'types': 'LLLLLLLLCCC',\n",
       "     'closed': True}],\n",
       "   'id': 7},\n",
       "  {'category': 'lane',\n",
       "   'attributes': {'laneDirection': 'parallel',\n",
       "    'laneStyle': 'solid',\n",
       "    'laneType': 'road curb'},\n",
       "   'manualShape': True,\n",
       "   'manualAttributes': True,\n",
       "   'poly2d': [{'vertices': [[503.674413, 373.137193],\n",
       "      [357.797732, 374.672737]],\n",
       "     'types': 'LL',\n",
       "     'closed': False}],\n",
       "   'id': 8},\n",
       "  {'category': 'lane',\n",
       "   'attributes': {'laneDirection': 'parallel',\n",
       "    'laneStyle': 'solid',\n",
       "    'laneType': 'road curb'},\n",
       "   'manualShape': True,\n",
       "   'manualAttributes': True,\n",
       "   'poly2d': [{'vertices': [[62.973282, 371.601649], [0, 368.53056]],\n",
       "     'types': 'LL',\n",
       "     'closed': False}],\n",
       "   'id': 9},\n",
       "  {'category': 'lane',\n",
       "   'attributes': {'laneDirection': 'parallel',\n",
       "    'laneStyle': 'solid',\n",
       "    'laneType': 'road curb'},\n",
       "   'manualShape': True,\n",
       "   'manualAttributes': True,\n",
       "   'poly2d': [{'vertices': [[1274.517503, 376.208281],\n",
       "      [905.986941, 371.601649]],\n",
       "     'types': 'LL',\n",
       "     'closed': False}],\n",
       "   'id': 10}]}"
      ]
     },
     "execution_count": 6,
     "metadata": {},
     "output_type": "execute_result"
    }
   ],
   "source": [
    "data[0]"
   ]
  }
 ],
 "metadata": {
  "kernelspec": {
   "display_name": ".venv",
   "language": "python",
   "name": "python3"
  },
  "language_info": {
   "codemirror_mode": {
    "name": "ipython",
    "version": 3
   },
   "file_extension": ".py",
   "mimetype": "text/x-python",
   "name": "python",
   "nbconvert_exporter": "python",
   "pygments_lexer": "ipython3",
   "version": "3.10.8"
  }
 },
 "nbformat": 4,
 "nbformat_minor": 2
}
